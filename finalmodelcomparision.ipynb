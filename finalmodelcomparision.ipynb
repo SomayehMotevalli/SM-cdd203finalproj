{
 "cells": [
  {
   "cell_type": "markdown",
   "metadata": {},
   "source": [
    "Install packages"
   ]
  },
  {
   "cell_type": "code",
   "execution_count": null,
   "metadata": {},
   "outputs": [],
   "source": [
    "!pip install pytdc xgboost rdkit scikit-learn pandas numpy"
   ]
  },
  {
   "cell_type": "markdown",
   "metadata": {},
   "source": [
    "Import the Dataset "
   ]
  },
  {
   "cell_type": "code",
   "execution_count": 3,
   "metadata": {},
   "outputs": [
    {
     "name": "stderr",
     "output_type": "stream",
     "text": [
      "Found local copy...\n",
      "Loading...\n",
      "Done!\n"
     ]
    },
    {
     "data": {
      "text/html": [
       "<div>\n",
       "<style scoped>\n",
       "    .dataframe tbody tr th:only-of-type {\n",
       "        vertical-align: middle;\n",
       "    }\n",
       "\n",
       "    .dataframe tbody tr th {\n",
       "        vertical-align: top;\n",
       "    }\n",
       "\n",
       "    .dataframe thead th {\n",
       "        text-align: right;\n",
       "    }\n",
       "</style>\n",
       "<table border=\"1\" class=\"dataframe\">\n",
       "  <thead>\n",
       "    <tr style=\"text-align: right;\">\n",
       "      <th></th>\n",
       "      <th>Drug_ID</th>\n",
       "      <th>Drug</th>\n",
       "      <th>Y</th>\n",
       "    </tr>\n",
       "  </thead>\n",
       "  <tbody>\n",
       "    <tr>\n",
       "      <th>0</th>\n",
       "      <td>0</td>\n",
       "      <td>Fc1ccc(-n2cc(NCCN3CCCCC3)nn2)cc1F</td>\n",
       "      <td>1</td>\n",
       "    </tr>\n",
       "    <tr>\n",
       "      <th>1</th>\n",
       "      <td>1</td>\n",
       "      <td>COc1cc(N2Cc3ccc(Sc4ccc(F)cc4)nc3C2=O)ccc1OCCN1...</td>\n",
       "      <td>0</td>\n",
       "    </tr>\n",
       "    <tr>\n",
       "      <th>2</th>\n",
       "      <td>2</td>\n",
       "      <td>CCOC(=O)[C@H]1CC[C@@H](N2CC(NC(=O)CNc3nn(C(N)=...</td>\n",
       "      <td>0</td>\n",
       "    </tr>\n",
       "    <tr>\n",
       "      <th>3</th>\n",
       "      <td>3</td>\n",
       "      <td>N[C@@H](Cn1c(=O)cnc2ccc(F)cc21)C1CCC(NCc2ccc3c...</td>\n",
       "      <td>0</td>\n",
       "    </tr>\n",
       "    <tr>\n",
       "      <th>4</th>\n",
       "      <td>4</td>\n",
       "      <td>O=C(NC1COc2cccc(-c3ccnc(CO)c3)c2C1)c1ccc(OCC(F...</td>\n",
       "      <td>0</td>\n",
       "    </tr>\n",
       "    <tr>\n",
       "      <th>...</th>\n",
       "      <td>...</td>\n",
       "      <td>...</td>\n",
       "      <td>...</td>\n",
       "    </tr>\n",
       "    <tr>\n",
       "      <th>13440</th>\n",
       "      <td>13440</td>\n",
       "      <td>Cc1csc(NC(=O)c2sc3nc4c(c(C(F)(F)F)c3c2N)CCC4)n1</td>\n",
       "      <td>0</td>\n",
       "    </tr>\n",
       "    <tr>\n",
       "      <th>13441</th>\n",
       "      <td>13441</td>\n",
       "      <td>Cc1cccc(-c2n[nH]cc2-c2ccc3ncccc3n2)n1</td>\n",
       "      <td>0</td>\n",
       "    </tr>\n",
       "    <tr>\n",
       "      <th>13442</th>\n",
       "      <td>13442</td>\n",
       "      <td>Cc1ccccc1-n1c(Cn2cnc3c(N)ncnc32)nc2cccc(C)c2c1=O</td>\n",
       "      <td>0</td>\n",
       "    </tr>\n",
       "    <tr>\n",
       "      <th>13443</th>\n",
       "      <td>13443</td>\n",
       "      <td>Cc1ccccc1-n1c(Cn2ncc3c(N)ncnc32)nc2cccc(C)c2c1=O</td>\n",
       "      <td>0</td>\n",
       "    </tr>\n",
       "    <tr>\n",
       "      <th>13444</th>\n",
       "      <td>13444</td>\n",
       "      <td>CCc1c(O)cc(O)c(C(=O)c2ccc(OCCN3CCOCC3)c(OC)c2)...</td>\n",
       "      <td>0</td>\n",
       "    </tr>\n",
       "  </tbody>\n",
       "</table>\n",
       "<p>13445 rows × 3 columns</p>\n",
       "</div>"
      ],
      "text/plain": [
       "       Drug_ID                                               Drug  Y\n",
       "0            0                  Fc1ccc(-n2cc(NCCN3CCCCC3)nn2)cc1F  1\n",
       "1            1  COc1cc(N2Cc3ccc(Sc4ccc(F)cc4)nc3C2=O)ccc1OCCN1...  0\n",
       "2            2  CCOC(=O)[C@H]1CC[C@@H](N2CC(NC(=O)CNc3nn(C(N)=...  0\n",
       "3            3  N[C@@H](Cn1c(=O)cnc2ccc(F)cc21)C1CCC(NCc2ccc3c...  0\n",
       "4            4  O=C(NC1COc2cccc(-c3ccnc(CO)c3)c2C1)c1ccc(OCC(F...  0\n",
       "...        ...                                                ... ..\n",
       "13440    13440    Cc1csc(NC(=O)c2sc3nc4c(c(C(F)(F)F)c3c2N)CCC4)n1  0\n",
       "13441    13441              Cc1cccc(-c2n[nH]cc2-c2ccc3ncccc3n2)n1  0\n",
       "13442    13442   Cc1ccccc1-n1c(Cn2cnc3c(N)ncnc32)nc2cccc(C)c2c1=O  0\n",
       "13443    13443   Cc1ccccc1-n1c(Cn2ncc3c(N)ncnc32)nc2cccc(C)c2c1=O  0\n",
       "13444    13444  CCc1c(O)cc(O)c(C(=O)c2ccc(OCCN3CCOCC3)c(OC)c2)...  0\n",
       "\n",
       "[13445 rows x 3 columns]"
      ]
     },
     "execution_count": 3,
     "metadata": {},
     "output_type": "execute_result"
    }
   ],
   "source": [
    "from tdc.single_pred import Tox\n",
    "from sklearn import svm\n",
    "\n",
    "data = Tox(name = 'hERG_Karim')\n",
    "df = data.get_data()\n",
    "df #view dataframe to explore"
   ]
  },
  {
   "cell_type": "markdown",
   "metadata": {},
   "source": [
    "Import Necessary Packages and Functions"
   ]
  },
  {
   "cell_type": "code",
   "execution_count": null,
   "metadata": {},
   "outputs": [],
   "source": [
    "import pandas as pd\n",
    "from rdkit import Chem\n",
    "from rdkit.Chem import AllChem\n",
    "from sklearn.svm import SVC\n",
    "from sklearn.metrics import accuracy_score, classification_report\n",
    "import numpy as np\n",
    "from sklearn.ensemble import RandomForestClassifier\n",
    "from sklearn.svm import SVC\n",
    "from xgboost import XGBClassifier\n",
    "from sklearn.ensemble import AdaBoostClassifier\n",
    "from sklearn.metrics import roc_auc_score\n",
    "\n",
    "from rdkit.Chem import MACCSkeys\n",
    "from rdkit.Chem import Descriptors\n",
    "from rdkit.Chem import rdmolops\n",
    "\n"
   ]
  },
  {
   "cell_type": "markdown",
   "metadata": {},
   "source": [
    "Feature Engineering"
   ]
  },
  {
   "cell_type": "code",
   "execution_count": null,
   "metadata": {},
   "outputs": [],
   "source": [
    "#data conversion\n",
    "split = data.get_split()\n",
    "smiles_train = split['train']['Drug']\n",
    "Y_train = split['train']['Y']\n",
    "smiles_valid = split['valid']['Drug']\n",
    "Y_valid = split['valid']['Y']\n",
    "\n",
    "# Compute MACCS Keys\n",
    "def compute_maccs_fingerprint(smiles):\n",
    "    mol = Chem.MolFromSmiles(smiles)\n",
    "    maccs = MACCSkeys.GenMACCSKeys(mol)\n",
    "    return np.array(maccs)\n",
    "\n",
    "# Compute additional molecular descriptors\n",
    "def compute_molecular_descriptors(smiles):\n",
    "    mol = Chem.MolFromSmiles(smiles)\n",
    "\n",
    "    descriptors = []\n",
    "    # Molecular weight\n",
    "    descriptors.append(Descriptors.MolWt(mol))\n",
    "    # LogP (octanol-water partition coefficient)\n",
    "    descriptors.append(Descriptors.MolLogP(mol))\n",
    "    # Topological Polar Surface Area (TPSA)\n",
    "    descriptors.append(Descriptors.TPSA(mol))\n",
    "    # Number of rotatable bonds\n",
    "    descriptors.append(Descriptors.NumRotatableBonds(mol))\n",
    "    # Aromaticity (True/False)\n",
    "    descriptors.append(Descriptors.NumAromaticRings(mol))\n",
    "    # Hydrogen Bond Donors and Acceptors\n",
    "    descriptors.append(Descriptors.NumHDonors(mol))\n",
    "    descriptors.append(Descriptors.NumHAcceptors(mol))\n",
    "\n",
    "    return np.array(descriptors)\n",
    "\n",
    "#Compute Morgan fingerprints\n",
    "def compute_morgan_fingerprint(smiles, radius=2, nBits=1024):\n",
    "    mol = Chem.MolFromSmiles(smiles)\n",
    "    fingerprint = AllChem.GetMorganFingerprintAsBitVect(mol, radius, nBits)\n",
    "    return np.array(fingerprint)\n",
    "\n",
    "# Compute all\n",
    "def compute_combined_fingerprints(smiles):\n",
    "    # Compute Morgan Fingerprint\n",
    "    morgan_fingerprint = compute_morgan_fingerprint(smiles)\n",
    "\n",
    "    # Compute MACCS Fingerprint\n",
    "    maccs_fingerprint = compute_maccs_fingerprint(smiles)\n",
    "\n",
    "    # Compute molecular descriptors\n",
    "    molecular_descriptors = compute_molecular_descriptors(smiles)\n",
    "\n",
    "    # Combine all features into a single vector\n",
    "    combined_features = np.concatenate([morgan_fingerprint, maccs_fingerprint, molecular_descriptors])\n",
    "\n",
    "    return combined_features\n",
    "\n",
    "train_features = smiles_train.apply(compute_combined_fingerprints)\n",
    "X_train_combined = np.stack(train_features.values)\n",
    "\n",
    "# Compute features for validation data\n",
    "valid_features = smiles_valid.apply(compute_combined_fingerprints)\n",
    "X_valid_combined = np.stack(valid_features.values)\n",
    "\n",
    "# Scale the features\n",
    "from sklearn.preprocessing import StandardScaler\n",
    "scaler = StandardScaler()\n",
    "X_train_scaled = scaler.fit_transform(X_train_combined)\n",
    "X_valid_scaled = scaler.transform(X_valid_combined)"
   ]
  },
  {
   "cell_type": "markdown",
   "metadata": {},
   "source": [
    "Train and Evaluate Models"
   ]
  },
  {
   "cell_type": "code",
   "execution_count": null,
   "metadata": {},
   "outputs": [
    {
     "name": "stdout",
     "output_type": "stream",
     "text": [
      "Random Forest Accuracy: 0.8608630952380952\n",
      "Random Forest Classification Report:                precision    recall  f1-score   support\n",
      "\n",
      "           0       0.87      0.86      0.86       683\n",
      "           1       0.85      0.86      0.86       661\n",
      "\n",
      "    accuracy                           0.86      1344\n",
      "   macro avg       0.86      0.86      0.86      1344\n",
      "weighted avg       0.86      0.86      0.86      1344\n",
      "\n",
      "Random Forest AUC:  0.9254512551416174\n"
     ]
    }
   ],
   "source": [
    "# Train Random Forest model\n",
    "rf_model = RandomForestClassifier(random_state=42, n_estimators=100)\n",
    "rf_model.fit(X_train_scaled, Y_train)\n",
    "\n",
    "# Predict and evaluate Random Forest model\n",
    "y_pred_rf = rf_model.predict(X_valid_scaled)\n",
    "y_prob_rf = rf_model.predict_proba(X_valid_scaled)\n",
    "print(\"Random Forest Accuracy:\", accuracy_score(Y_valid, y_pred_rf))\n",
    "print(\"Random Forest Classification Report:\\n\", classification_report(Y_valid, y_pred_rf))\n",
    "print(\"Random Forest AUC: \", roc_auc_score(Y_valid, y_prob_rf[:,1]))"
   ]
  },
  {
   "cell_type": "code",
   "execution_count": 14,
   "metadata": {},
   "outputs": [
    {
     "name": "stdout",
     "output_type": "stream",
     "text": [
      "SVM Accuracy: 0.8333333333333334\n",
      "SVM Classification Report:\n",
      "               precision    recall  f1-score   support\n",
      "\n",
      "           0       0.85      0.81      0.83       683\n",
      "           1       0.81      0.86      0.84       661\n",
      "\n",
      "    accuracy                           0.83      1344\n",
      "   macro avg       0.83      0.83      0.83      1344\n",
      "weighted avg       0.83      0.83      0.83      1344\n",
      "\n",
      "SVM AUC:  0.9127868728998833\n"
     ]
    }
   ],
   "source": [
    "# Train SVM model\n",
    "#Best parameters found from randomized search: {'C': 1.6599452033620266, 'gamma': 0.06808361216819946, 'kernel': 'poly'}\n",
    "svm_model = SVC(kernel='poly', random_state=42, probability=True, C=1.7, gamma= 0.07)\n",
    "svm_model.fit(X_train_scaled, Y_train)\n",
    "\n",
    "# Predict and evaluate SVM model\n",
    "y_pred_svm = svm_model.predict(X_valid_scaled)\n",
    "y_prob_svm = svm_model.predict_proba(X_valid_scaled)\n",
    "print(\"SVM Accuracy:\", accuracy_score(Y_valid, y_pred_svm))\n",
    "print(\"SVM Classification Report:\\n\", classification_report(Y_valid, y_pred_svm))\n",
    "print(\"SVM AUC: \", roc_auc_score(Y_valid, y_prob_svm[:,1]))"
   ]
  },
  {
   "cell_type": "code",
   "execution_count": 12,
   "metadata": {},
   "outputs": [
    {
     "name": "stdout",
     "output_type": "stream",
     "text": [
      "XGBoost Validation accuracy: 0.8660714285714286\n",
      "XGBoost Classification report:\n",
      "               precision    recall  f1-score   support\n",
      "\n",
      "           0       0.87      0.86      0.87       683\n",
      "           1       0.86      0.87      0.86       661\n",
      "\n",
      "    accuracy                           0.87      1344\n",
      "   macro avg       0.87      0.87      0.87      1344\n",
      "weighted avg       0.87      0.87      0.87      1344\n",
      "\n",
      "XGBoost AUC:  0.9245608167225221\n"
     ]
    }
   ],
   "source": [
    "#Train XGBoost\n",
    "#Best parameters found from randomized search: {'subsample': 0.8, 'reg_lambda': 3, 'reg_alpha': 1, 'n_estimators': 200, 'max_depth': 9, 'learning_rate': 0.3, 'gamma': 0, 'colsample_bytree': 0.6}\n",
    "model = XGBClassifier(\n",
    "    subsample = 0.8,\n",
    "    reg_lambda = 3,\n",
    "    reg_alpha = 1,\n",
    "    max_depth=9,\n",
    "    learning_rate=0.3,\n",
    "    n_estimators=200,\n",
    "    gamma = 0,\n",
    "    colsample_bytree=0.6,\n",
    "    random_state=42\n",
    ")\n",
    "\n",
    "model.fit(X_train_scaled, Y_train)\n",
    "y_pred_xg = model.predict(X_valid_scaled)\n",
    "y_prob_xg = model.predict_proba(X_valid_scaled)\n",
    "print(\"XGBoost Validation accuracy:\", accuracy_score(Y_valid, y_pred_xg))\n",
    "print(\"XGBoost Classification report:\\n\", classification_report(Y_valid, y_pred_xg))\n",
    "print(\"XGBoost AUC: \", roc_auc_score(Y_valid, y_prob_xg[:,1]))"
   ]
  },
  {
   "cell_type": "code",
   "execution_count": null,
   "metadata": {},
   "outputs": [
    {
     "name": "stdout",
     "output_type": "stream",
     "text": [
      "Adaboost Accuracy: 0.7142857142857143\n",
      "Adaboost Classification Report:\n",
      "               precision    recall  f1-score   support\n",
      "\n",
      "           0       0.73      0.69      0.71       683\n",
      "           1       0.70      0.74      0.72       661\n",
      "\n",
      "    accuracy                           0.71      1344\n",
      "   macro avg       0.72      0.71      0.71      1344\n",
      "weighted avg       0.72      0.71      0.71      1344\n",
      "\n",
      "Adaboost AUC:  0.8015573812250394\n"
     ]
    }
   ],
   "source": [
    "# Initialize the AdaBoost model\n",
    "adaboost = AdaBoostClassifier(n_estimators=50, random_state=42)  # You can adjust n_estimators\n",
    "\n",
    "# Train the model\n",
    "adaboost.fit(X_train_scaled, Y_train)\n",
    "\n",
    "# Predict on the validation set\n",
    "y_pred_ada = adaboost.predict(X_valid_scaled)\n",
    "y_prob_ada = adaboost.predict_proba(X_valid_scaled)\n",
    "# Evaluate the model\n",
    "print(\"Adaboost Accuracy:\", accuracy_score(Y_valid, y_pred_ada))\n",
    "print(\"Adaboost Classification Report:\\n\", classification_report(Y_valid, y_pred_ada))\n",
    "print(\"Adaboost AUC: \", roc_auc_score(Y_valid, y_prob_ada[:,1]))"
   ]
  }
 ],
 "metadata": {
  "kernelspec": {
   "display_name": "cdd203",
   "language": "python",
   "name": "python3"
  },
  "language_info": {
   "codemirror_mode": {
    "name": "ipython",
    "version": 3
   },
   "file_extension": ".py",
   "mimetype": "text/x-python",
   "name": "python",
   "nbconvert_exporter": "python",
   "pygments_lexer": "ipython3",
   "version": "3.8.20"
  }
 },
 "nbformat": 4,
 "nbformat_minor": 2
}
