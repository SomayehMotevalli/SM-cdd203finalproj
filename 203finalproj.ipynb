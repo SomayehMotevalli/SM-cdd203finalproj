{
 "cells": [
  {
   "cell_type": "code",
   "execution_count": 19,
   "metadata": {
    "colab": {
     "base_uri": "https://localhost:8080/"
    },
    "executionInfo": {
     "elapsed": 11673,
     "status": "ok",
     "timestamp": 1732665870012,
     "user": {
      "displayName": "Tushar Agashe",
      "userId": "02721890509697442382"
     },
     "user_tz": 480
    },
    "id": "GoO19pKkunRM",
    "outputId": "4cc0f033-1f75-4a32-888a-387dd8e6a740"
   },
   "outputs": [
    {
     "name": "stderr",
     "output_type": "stream",
     "text": [
      "17988.81s - pydevd: Sending message related to process being replaced timed-out after 5 seconds\n"
     ]
    },
    {
     "name": "stdout",
     "output_type": "stream",
     "text": [
      "Requirement already satisfied: PyTDC in /opt/miniconda3/envs/cdd203/lib/python3.8/site-packages (0.4.1)\n",
      "Requirement already satisfied: smiles-encoder in /opt/miniconda3/envs/cdd203/lib/python3.8/site-packages (0.1.0)\n",
      "Requirement already satisfied: scipy in /opt/miniconda3/envs/cdd203/lib/python3.8/site-packages (1.10.1)\n",
      "Requirement already satisfied: rdkit-pypi in /opt/miniconda3/envs/cdd203/lib/python3.8/site-packages (from PyTDC) (2022.9.5)\n",
      "Requirement already satisfied: fuzzywuzzy in /opt/miniconda3/envs/cdd203/lib/python3.8/site-packages (from PyTDC) (0.18.0)\n",
      "Requirement already satisfied: numpy in /opt/miniconda3/envs/cdd203/lib/python3.8/site-packages (from PyTDC) (1.24.4)\n",
      "Requirement already satisfied: pandas in /opt/miniconda3/envs/cdd203/lib/python3.8/site-packages (from PyTDC) (2.0.3)\n",
      "Requirement already satisfied: tqdm in /opt/miniconda3/envs/cdd203/lib/python3.8/site-packages (from PyTDC) (4.67.1)\n",
      "Requirement already satisfied: scikit-learn in /opt/miniconda3/envs/cdd203/lib/python3.8/site-packages (from PyTDC) (1.3.2)\n",
      "Requirement already satisfied: seaborn in /opt/miniconda3/envs/cdd203/lib/python3.8/site-packages (from PyTDC) (0.13.2)\n",
      "Requirement already satisfied: requests in /opt/miniconda3/envs/cdd203/lib/python3.8/site-packages (from PyTDC) (2.32.3)\n",
      "Requirement already satisfied: huggingface-hub in /opt/miniconda3/envs/cdd203/lib/python3.8/site-packages (from PyTDC) (0.26.2)\n",
      "Requirement already satisfied: dataclasses in /opt/miniconda3/envs/cdd203/lib/python3.8/site-packages (from PyTDC) (0.6)\n",
      "Requirement already satisfied: filelock in /opt/miniconda3/envs/cdd203/lib/python3.8/site-packages (from huggingface-hub->PyTDC) (3.16.1)\n",
      "Requirement already satisfied: fsspec>=2023.5.0 in /opt/miniconda3/envs/cdd203/lib/python3.8/site-packages (from huggingface-hub->PyTDC) (2024.10.0)\n",
      "Requirement already satisfied: packaging>=20.9 in /opt/miniconda3/envs/cdd203/lib/python3.8/site-packages (from huggingface-hub->PyTDC) (24.1)\n",
      "Requirement already satisfied: pyyaml>=5.1 in /opt/miniconda3/envs/cdd203/lib/python3.8/site-packages (from huggingface-hub->PyTDC) (6.0.2)\n",
      "Requirement already satisfied: typing-extensions>=3.7.4.3 in /opt/miniconda3/envs/cdd203/lib/python3.8/site-packages (from huggingface-hub->PyTDC) (4.12.2)\n",
      "Requirement already satisfied: python-dateutil>=2.8.2 in /opt/miniconda3/envs/cdd203/lib/python3.8/site-packages (from pandas->PyTDC) (2.9.0)\n",
      "Requirement already satisfied: pytz>=2020.1 in /opt/miniconda3/envs/cdd203/lib/python3.8/site-packages (from pandas->PyTDC) (2024.2)\n",
      "Requirement already satisfied: tzdata>=2022.1 in /opt/miniconda3/envs/cdd203/lib/python3.8/site-packages (from pandas->PyTDC) (2024.2)\n",
      "Requirement already satisfied: Pillow in /opt/miniconda3/envs/cdd203/lib/python3.8/site-packages (from rdkit-pypi->PyTDC) (10.4.0)\n",
      "Requirement already satisfied: charset-normalizer<4,>=2 in /opt/miniconda3/envs/cdd203/lib/python3.8/site-packages (from requests->PyTDC) (3.4.0)\n",
      "Requirement already satisfied: idna<4,>=2.5 in /opt/miniconda3/envs/cdd203/lib/python3.8/site-packages (from requests->PyTDC) (3.10)\n",
      "Requirement already satisfied: urllib3<3,>=1.21.1 in /opt/miniconda3/envs/cdd203/lib/python3.8/site-packages (from requests->PyTDC) (2.2.3)\n",
      "Requirement already satisfied: certifi>=2017.4.17 in /opt/miniconda3/envs/cdd203/lib/python3.8/site-packages (from requests->PyTDC) (2024.8.30)\n",
      "Requirement already satisfied: joblib>=1.1.1 in /opt/miniconda3/envs/cdd203/lib/python3.8/site-packages (from scikit-learn->PyTDC) (1.4.2)\n",
      "Requirement already satisfied: threadpoolctl>=2.0.0 in /opt/miniconda3/envs/cdd203/lib/python3.8/site-packages (from scikit-learn->PyTDC) (3.5.0)\n",
      "Requirement already satisfied: matplotlib!=3.6.1,>=3.4 in /opt/miniconda3/envs/cdd203/lib/python3.8/site-packages (from seaborn->PyTDC) (3.7.5)\n",
      "Requirement already satisfied: contourpy>=1.0.1 in /opt/miniconda3/envs/cdd203/lib/python3.8/site-packages (from matplotlib!=3.6.1,>=3.4->seaborn->PyTDC) (1.1.1)\n",
      "Requirement already satisfied: cycler>=0.10 in /opt/miniconda3/envs/cdd203/lib/python3.8/site-packages (from matplotlib!=3.6.1,>=3.4->seaborn->PyTDC) (0.12.1)\n",
      "Requirement already satisfied: fonttools>=4.22.0 in /opt/miniconda3/envs/cdd203/lib/python3.8/site-packages (from matplotlib!=3.6.1,>=3.4->seaborn->PyTDC) (4.55.0)\n",
      "Requirement already satisfied: kiwisolver>=1.0.1 in /opt/miniconda3/envs/cdd203/lib/python3.8/site-packages (from matplotlib!=3.6.1,>=3.4->seaborn->PyTDC) (1.4.7)\n",
      "Requirement already satisfied: pyparsing>=2.3.1 in /opt/miniconda3/envs/cdd203/lib/python3.8/site-packages (from matplotlib!=3.6.1,>=3.4->seaborn->PyTDC) (3.1.4)\n",
      "Requirement already satisfied: importlib-resources>=3.2.0 in /opt/miniconda3/envs/cdd203/lib/python3.8/site-packages (from matplotlib!=3.6.1,>=3.4->seaborn->PyTDC) (6.4.5)\n",
      "Requirement already satisfied: six>=1.5 in /opt/miniconda3/envs/cdd203/lib/python3.8/site-packages (from python-dateutil>=2.8.2->pandas->PyTDC) (1.16.0)\n",
      "Requirement already satisfied: zipp>=3.1.0 in /opt/miniconda3/envs/cdd203/lib/python3.8/site-packages (from importlib-resources>=3.2.0->matplotlib!=3.6.1,>=3.4->seaborn->PyTDC) (3.20.2)\n"
     ]
    }
   ],
   "source": [
    "!pip install PyTDC smiles-encoder scipy"
   ]
  },
  {
   "cell_type": "code",
   "execution_count": 20,
   "metadata": {
    "colab": {
     "base_uri": "https://localhost:8080/"
    },
    "executionInfo": {
     "elapsed": 4486,
     "status": "ok",
     "timestamp": 1732665930684,
     "user": {
      "displayName": "Tushar Agashe",
      "userId": "02721890509697442382"
     },
     "user_tz": 480
    },
    "id": "_-KGNU6378NU",
    "outputId": "23e1f0cb-cd30-423c-843b-ff5d9d2ea0df"
   },
   "outputs": [
    {
     "name": "stderr",
     "output_type": "stream",
     "text": [
      "17998.02s - pydevd: Sending message related to process being replaced timed-out after 5 seconds\n"
     ]
    },
    {
     "name": "stdout",
     "output_type": "stream",
     "text": [
      "Requirement already satisfied: scikit-learn in /opt/miniconda3/envs/cdd203/lib/python3.8/site-packages (1.3.2)\n",
      "Requirement already satisfied: numpy<2.0,>=1.17.3 in /opt/miniconda3/envs/cdd203/lib/python3.8/site-packages (from scikit-learn) (1.24.4)\n",
      "Requirement already satisfied: scipy>=1.5.0 in /opt/miniconda3/envs/cdd203/lib/python3.8/site-packages (from scikit-learn) (1.10.1)\n",
      "Requirement already satisfied: joblib>=1.1.1 in /opt/miniconda3/envs/cdd203/lib/python3.8/site-packages (from scikit-learn) (1.4.2)\n",
      "Requirement already satisfied: threadpoolctl>=2.0.0 in /opt/miniconda3/envs/cdd203/lib/python3.8/site-packages (from scikit-learn) (3.5.0)\n"
     ]
    }
   ],
   "source": [
    "!pip install scikit-learn"
   ]
  },
  {
   "cell_type": "code",
   "execution_count": 3,
   "metadata": {
    "colab": {
     "base_uri": "https://localhost:8080/",
     "height": 476
    },
    "executionInfo": {
     "elapsed": 361,
     "status": "ok",
     "timestamp": 1732671691096,
     "user": {
      "displayName": "Tushar Agashe",
      "userId": "02721890509697442382"
     },
     "user_tz": 480
    },
    "id": "-mjpfR9kvVqU",
    "outputId": "75746f03-9ed5-4c6c-c609-afd4622e0088"
   },
   "outputs": [
    {
     "name": "stderr",
     "output_type": "stream",
     "text": [
      "Found local copy...\n",
      "Loading...\n",
      "Done!\n"
     ]
    },
    {
     "data": {
      "text/html": [
       "<div>\n",
       "<style scoped>\n",
       "    .dataframe tbody tr th:only-of-type {\n",
       "        vertical-align: middle;\n",
       "    }\n",
       "\n",
       "    .dataframe tbody tr th {\n",
       "        vertical-align: top;\n",
       "    }\n",
       "\n",
       "    .dataframe thead th {\n",
       "        text-align: right;\n",
       "    }\n",
       "</style>\n",
       "<table border=\"1\" class=\"dataframe\">\n",
       "  <thead>\n",
       "    <tr style=\"text-align: right;\">\n",
       "      <th></th>\n",
       "      <th>Drug_ID</th>\n",
       "      <th>Drug</th>\n",
       "      <th>Y</th>\n",
       "    </tr>\n",
       "  </thead>\n",
       "  <tbody>\n",
       "    <tr>\n",
       "      <th>0</th>\n",
       "      <td>DEMETHYLASTEMIZOLE</td>\n",
       "      <td>Oc1ccc(CCN2CCC(Nc3nc4ccccc4n3Cc3ccc(F)cc3)CC2)cc1</td>\n",
       "      <td>1.0</td>\n",
       "    </tr>\n",
       "    <tr>\n",
       "      <th>1</th>\n",
       "      <td>GBR-12909</td>\n",
       "      <td>Fc1ccc(C(OCC[NH+]2CC[NH+](CCCc3ccccc3)CC2)c2cc...</td>\n",
       "      <td>1.0</td>\n",
       "    </tr>\n",
       "    <tr>\n",
       "      <th>2</th>\n",
       "      <td>LY-97241</td>\n",
       "      <td>CCCCCCCN(CC)CCCCc1ccc([N+](=O)[O-])cc1</td>\n",
       "      <td>1.0</td>\n",
       "    </tr>\n",
       "    <tr>\n",
       "      <th>3</th>\n",
       "      <td>CLOFILIUM PHOSPHATE</td>\n",
       "      <td>CCCCCCC[N+](CC)(CC)CCCCc1ccc(Cl)cc1.CCCCCCC[N+...</td>\n",
       "      <td>1.0</td>\n",
       "    </tr>\n",
       "    <tr>\n",
       "      <th>4</th>\n",
       "      <td>FLUSPIRILENE</td>\n",
       "      <td>O=C1NCN(c2ccccc2)C12CC[NH+](CCCC(c1ccc(F)cc1)c...</td>\n",
       "      <td>1.0</td>\n",
       "    </tr>\n",
       "    <tr>\n",
       "      <th>...</th>\n",
       "      <td>...</td>\n",
       "      <td>...</td>\n",
       "      <td>...</td>\n",
       "    </tr>\n",
       "    <tr>\n",
       "      <th>650</th>\n",
       "      <td>THEOPHYLLINE</td>\n",
       "      <td>Cn1c(=O)c2nc[nH]c2n(C)c1=O</td>\n",
       "      <td>0.0</td>\n",
       "    </tr>\n",
       "    <tr>\n",
       "      <th>651</th>\n",
       "      <td>THIOGUANINE</td>\n",
       "      <td>Nc1nc(=S)c2[nH]cnc2[nH]1</td>\n",
       "      <td>0.0</td>\n",
       "    </tr>\n",
       "    <tr>\n",
       "      <th>652</th>\n",
       "      <td>TILUDRONIC_ACID</td>\n",
       "      <td>O=P([O-])([O-])C(Sc1ccc(Cl)cc1)P(=O)([O-])[O-]</td>\n",
       "      <td>0.0</td>\n",
       "    </tr>\n",
       "    <tr>\n",
       "      <th>653</th>\n",
       "      <td>TIZANIDINE</td>\n",
       "      <td>Clc1ccc2nsnc2c1NC1=[NH+]CCN1</td>\n",
       "      <td>0.0</td>\n",
       "    </tr>\n",
       "    <tr>\n",
       "      <th>654</th>\n",
       "      <td>TOLCAPONE</td>\n",
       "      <td>Cc1ccc(C(=O)c2cc(O)c([O-])c([N+](=O)[O-])c2)cc1</td>\n",
       "      <td>0.0</td>\n",
       "    </tr>\n",
       "  </tbody>\n",
       "</table>\n",
       "<p>655 rows × 3 columns</p>\n",
       "</div>"
      ],
      "text/plain": [
       "                 Drug_ID                                               Drug  \\\n",
       "0     DEMETHYLASTEMIZOLE  Oc1ccc(CCN2CCC(Nc3nc4ccccc4n3Cc3ccc(F)cc3)CC2)cc1   \n",
       "1              GBR-12909  Fc1ccc(C(OCC[NH+]2CC[NH+](CCCc3ccccc3)CC2)c2cc...   \n",
       "2               LY-97241             CCCCCCCN(CC)CCCCc1ccc([N+](=O)[O-])cc1   \n",
       "3    CLOFILIUM PHOSPHATE  CCCCCCC[N+](CC)(CC)CCCCc1ccc(Cl)cc1.CCCCCCC[N+...   \n",
       "4           FLUSPIRILENE  O=C1NCN(c2ccccc2)C12CC[NH+](CCCC(c1ccc(F)cc1)c...   \n",
       "..                   ...                                                ...   \n",
       "650         THEOPHYLLINE                         Cn1c(=O)c2nc[nH]c2n(C)c1=O   \n",
       "651          THIOGUANINE                           Nc1nc(=S)c2[nH]cnc2[nH]1   \n",
       "652      TILUDRONIC_ACID     O=P([O-])([O-])C(Sc1ccc(Cl)cc1)P(=O)([O-])[O-]   \n",
       "653           TIZANIDINE                       Clc1ccc2nsnc2c1NC1=[NH+]CCN1   \n",
       "654            TOLCAPONE    Cc1ccc(C(=O)c2cc(O)c([O-])c([N+](=O)[O-])c2)cc1   \n",
       "\n",
       "       Y  \n",
       "0    1.0  \n",
       "1    1.0  \n",
       "2    1.0  \n",
       "3    1.0  \n",
       "4    1.0  \n",
       "..   ...  \n",
       "650  0.0  \n",
       "651  0.0  \n",
       "652  0.0  \n",
       "653  0.0  \n",
       "654  0.0  \n",
       "\n",
       "[655 rows x 3 columns]"
      ]
     },
     "execution_count": 3,
     "metadata": {},
     "output_type": "execute_result"
    }
   ],
   "source": [
    "from tdc.single_pred import Tox\n",
    "from sklearn import svm\n",
    "\n",
    "data = Tox(name = 'hERG')\n",
    "df = data.get_data()\n",
    "df\n",
    "\n",
    "\n",
    "#https://pypi.org/project/smiles-encoder/ smile encoder\n",
    "#workflow\n",
    "# encode SMILES strings --> binary classification\n",
    "#timeline\n",
    "#gather packages needed\n",
    "#have funtional model\n",
    "# refine model parameters\n",
    "# create"
   ]
  },
  {
   "cell_type": "code",
   "execution_count": 4,
   "metadata": {
    "executionInfo": {
     "elapsed": 137,
     "status": "ok",
     "timestamp": 1732671712408,
     "user": {
      "displayName": "Tushar Agashe",
      "userId": "02721890509697442382"
     },
     "user_tz": 480
    },
    "id": "kGmblugwvqjK"
   },
   "outputs": [
    {
     "data": {
      "text/plain": [
       "0      1.0\n",
       "1      1.0\n",
       "2      1.0\n",
       "3      1.0\n",
       "4      1.0\n",
       "      ... \n",
       "453    0.0\n",
       "454    0.0\n",
       "455    0.0\n",
       "456    0.0\n",
       "457    0.0\n",
       "Name: Y, Length: 458, dtype: float64"
      ]
     },
     "execution_count": 4,
     "metadata": {},
     "output_type": "execute_result"
    }
   ],
   "source": [
    "split = data.get_split()\n",
    "smiles_list_train = split['train']['Drug'].tolist()\n",
    "Y_train = split['train']['Y']\n",
    "Y_train"
   ]
  },
  {
   "cell_type": "code",
   "execution_count": 35,
   "metadata": {
    "colab": {
     "background_save": true,
     "output_embedded_package_id": "1dopk0439zb9fudKo-O07x5nmwQglkPPN"
    },
    "id": "vmTUfg34n8id",
    "outputId": "d2e83a27-ecfe-4033-92f8-f6338817d917"
   },
   "outputs": [
    {
     "name": "stdout",
     "output_type": "stream",
     "text": [
      "Best parameters: {'C': 0.1, 'gamma': 1, 'kernel': 'linear'}\n",
      "Best cross-validation score: 0.7928810320114668\n"
     ]
    }
   ],
   "source": [
    "from smiles_encoder import SmilesEncoder\n",
    "from sklearn.metrics import accuracy_score, classification_report\n",
    "from sklearn.model_selection import GridSearchCV\n",
    "from sklearn.svm import SVC\n",
    "import numpy as np\n",
    "\n",
    "\n",
    "#encode into vectors using one hot encoding \n",
    "encoder = SmilesEncoder(smiles_list_train)\n",
    "X_train = encoder.encode_many(smiles_list_train)\n",
    "encoder_valid = SmilesEncoder(split['valid']['Drug'].tolist())\n",
    "X_valid = encoder_valid.encode_many(split['valid']['Drug'].tolist())\n",
    "Y_train = split['train']['Y']\n",
    "\n",
    "\n",
    "# Pad sequences to a fixed length\n",
    "# Step 1: Determine maximum sizes\n",
    "max_outer = max(max(len(sample) for sample in X_train), max(len(sample) for sample in X_valid))  # Outer dimension\n",
    "max_inner = max(\n",
    "    max(len(inner) for sample in X_train for inner in sample),\n",
    "    max(len(inner) for sample in X_valid for inner in sample),\n",
    ")  # Inner dimension\n",
    "\n",
    "# Step 2: Function to pad both outer and inner dimensions\n",
    "def pad_samples(data, max_outer, max_inner):\n",
    "    padded = []\n",
    "    for sample in data:\n",
    "        # Pad inner lists to max_inner\n",
    "        padded_sample = [inner + [0] * (max_inner - len(inner)) for inner in sample]\n",
    "        # Pad the outer list to max_outer with zero-filled inner lists\n",
    "        padded_sample += [[0] * max_inner] * (max_outer - len(sample))\n",
    "        padded.append(padded_sample)\n",
    "    return np.array(padded)\n",
    "# Apply padding to both datasets\n",
    "X_train_padded = pad_samples(X_train, max_outer, max_inner)\n",
    "X_val_padded = pad_samples(X_valid, max_outer, max_inner)\n",
    "\n",
    "\n",
    "#flatten \n",
    "X_train_final = [np.array(sample).flatten() for sample in X_train_padded]\n",
    "\n",
    "#train SVM\n",
    "svm = SVC()\n",
    "param_grid = {'C': [0.1, 1, 10], 'gamma': [1, 0.1, 0.01], 'kernel': ['linear', 'poly', 'rbf', 'sigmoid']}\n",
    "grid = GridSearchCV(estimator=svm, param_grid=param_grid, scoring='accuracy', cv=5)\n",
    "grid.fit(X_train_final, Y_train)\n",
    "\n",
    "# Evaluate\n",
    "print(\"Best parameters:\", grid.best_params_)\n",
    "print(\"Best cross-validation score:\", grid.best_score_)\n",
    "\n"
   ]
  },
  {
   "cell_type": "code",
   "execution_count": 36,
   "metadata": {},
   "outputs": [
    {
     "name": "stdout",
     "output_type": "stream",
     "text": [
      "Validation accuracy: 0.48484848484848486\n",
      "Classification report:\n",
      "               precision    recall  f1-score   support\n",
      "\n",
      "         0.0       0.38      0.74      0.50        23\n",
      "         1.0       0.71      0.35      0.47        43\n",
      "\n",
      "    accuracy                           0.48        66\n",
      "   macro avg       0.55      0.54      0.48        66\n",
      "weighted avg       0.60      0.48      0.48        66\n",
      "\n"
     ]
    }
   ],
   "source": [
    "\n",
    "X_valid_final = [np.array(sample).flatten() for sample in X_val_padded]\n",
    "Y_valid = split['valid']['Y']\n",
    "\n",
    "# Evaluate on validation data\n",
    "best_model = grid.best_estimator_\n",
    "Y_pred_valid = best_model.predict(X_valid_final)\n",
    "\n",
    "# Validation metrics\n",
    "print(\"Validation accuracy:\", accuracy_score(Y_valid, Y_pred_valid))\n",
    "print(\"Classification report:\\n\", classification_report(Y_valid, Y_pred_valid))"
   ]
  }
 ],
 "metadata": {
  "colab": {
   "name": "",
   "version": ""
  },
  "kernelspec": {
   "display_name": "cdd203",
   "language": "python",
   "name": "python3"
  },
  "language_info": {
   "codemirror_mode": {
    "name": "ipython",
    "version": 3
   },
   "file_extension": ".py",
   "mimetype": "text/x-python",
   "name": "python",
   "nbconvert_exporter": "python",
   "pygments_lexer": "ipython3",
   "version": "3.8.20"
  }
 },
 "nbformat": 4,
 "nbformat_minor": 0
}
